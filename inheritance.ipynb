{
 "cells": [
  {
   "cell_type": "code",
   "execution_count": 9,
   "id": "a40bba03-b84b-4a70-b371-7045de6796ed",
   "metadata": {},
   "outputs": [],
   "source": [
    "# Base class\n",
    "class Animal:\n",
    "    def __init__(self, name):\n",
    "        self.name = name\n",
    "    \n",
    "    def speak(self):\n",
    "        raise NotImplementedError(\"Subclass must implement abstract method\")\n",
    "\n",
    "# Derived class for Dog\n",
    "class Dog(Animal):\n",
    "    def __init__(self, name, breed):\n",
    "        # Call the constructor of the base class\n",
    "        super().__init__(name)\n",
    "        self.breed = breed\n",
    "\n",
    "    def speak(self):\n",
    "        return f\"{self.name} says Woof!\"\n",
    "\n",
    "# Derived class for Cat\n",
    "class Cat(Animal):\n",
    "    def __init__(self, name, color):\n",
    "        # Call the constructor of the base class\n",
    "        super().__init__(name)\n",
    "        self.color = color\n",
    "\n",
    "    def speak(self):\n",
    "        return f\"{self.name} says Meow!\"\n",
    "\n"
   ]
  },
  {
   "cell_type": "code",
   "execution_count": 10,
   "id": "7b0c0789-e53f-4998-902d-99fc338c8e56",
   "metadata": {},
   "outputs": [
    {
     "name": "stdout",
     "output_type": "stream",
     "text": [
      "Dog: Buddy, Breed: Golden Retriever\n",
      "Buddy says Woof!\n",
      "Cat: Whiskers, Color: Black\n",
      "Whiskers says Meow!\n"
     ]
    }
   ],
   "source": [
    "# Creating instances of Dog and Cat\n",
    "dog = Dog(\"Buddy\", \"Golden Retriever\")\n",
    "cat = Cat(\"Whiskers\", \"Black\")\n",
    "\n",
    "# Printing the details and sounds\n",
    "print(f\"Dog: {dog.name}, Breed: {dog.breed}\")\n",
    "print(dog.speak())\n",
    "\n",
    "print(f\"Cat: {cat.name}, Color: {cat.color}\")\n",
    "print(cat.speak())\n"
   ]
  },
  {
   "cell_type": "code",
   "execution_count": 11,
   "id": "0272da0f-175e-4920-9e69-38ac02be7e6d",
   "metadata": {},
   "outputs": [
    {
     "name": "stdout",
     "output_type": "stream",
     "text": [
      "Sum: 8\n",
      "Product: 15\n"
     ]
    }
   ],
   "source": [
    "class MathOperations:\n",
    "    # Static method to add two numbers\n",
    "    @staticmethod\n",
    "    def add(a, b):\n",
    "        return a + b\n",
    "\n",
    "    # Static method to multiply two numbers\n",
    "    @staticmethod\n",
    "    def multiply(a, b):\n",
    "        return a * b\n",
    "\n",
    "# Using the static methods without creating an instance of the class\n",
    "sum_result = MathOperations.add(5, 3)\n",
    "product_result = MathOperations.multiply(5, 3)\n",
    "\n",
    "print(f\"Sum: {sum_result}\")\n",
    "print(f\"Product: {product_result}\")\n"
   ]
  }
 ],
 "metadata": {
  "kernelspec": {
   "display_name": "Python 3 (ipykernel)",
   "language": "python",
   "name": "python3"
  },
  "language_info": {
   "codemirror_mode": {
    "name": "ipython",
    "version": 3
   },
   "file_extension": ".py",
   "mimetype": "text/x-python",
   "name": "python",
   "nbconvert_exporter": "python",
   "pygments_lexer": "ipython3",
   "version": "3.11.7"
  }
 },
 "nbformat": 4,
 "nbformat_minor": 5
}
